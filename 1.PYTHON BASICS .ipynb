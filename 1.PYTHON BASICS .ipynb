{
 "cells": [
  {
   "cell_type": "markdown",
   "id": "e007d6c7-4560-4e09-8526-66fa835dd1da",
   "metadata": {},
   "source": [
    "#### ARRAY TO DTAFRAME"
   ]
  },
  {
   "cell_type": "code",
   "execution_count": 1,
   "id": "81a4f7ea-5130-4992-b38b-db433615aff3",
   "metadata": {},
   "outputs": [
    {
     "name": "stdout",
     "output_type": "stream",
     "text": [
      "   Subject1  Subject2  Subject3\n",
      "0        11        22        33\n",
      "1        44        55        66\n"
     ]
    }
   ],
   "source": [
    "import numpy as np\n",
    "import pandas as pd\n",
    "marks = np.array([[11,22,33],[44,55,66]])\n",
    "df = pd.DataFrame(marks, columns = ['Subject1','Subject2','Subject3'])\n",
    "print(df)"
   ]
  },
  {
   "cell_type": "code",
   "execution_count": 2,
   "id": "5364fa4b-3530-4688-9858-1a3904c8ae48",
   "metadata": {},
   "outputs": [
    {
     "name": "stdout",
     "output_type": "stream",
     "text": [
      "      Subject1  Subject2  Subject3\n",
      "Anu         11        22        33\n",
      "John        44        55        66\n"
     ]
    }
   ],
   "source": [
    "import numpy as np\n",
    "import pandas as pd\n",
    "marks = np.array([[11,22,33],[44,55,66]])\n",
    "df = pd.DataFrame(marks, columns = ['Subject1','Subject2','Subject3'], index=['Anu','John'])\n",
    "print(df)"
   ]
  },
  {
   "cell_type": "markdown",
   "id": "42484080-42a4-430a-9a59-c4894a49c405",
   "metadata": {},
   "source": [
    "#### EXAMPLE 2"
   ]
  },
  {
   "cell_type": "code",
   "execution_count": 3,
   "id": "41556b79-7b21-4872-a8c2-e3d977300aea",
   "metadata": {},
   "outputs": [
    {
     "name": "stdout",
     "output_type": "stream",
     "text": [
      "    Name Age Birth Year Graduation Year\n",
      "0    Jon  25       1995            2016\n",
      "1  Maria  47       1973            2000\n",
      "2   Bill  38       1982            2005\n"
     ]
    }
   ],
   "source": [
    "import numpy as np\n",
    "import pandas as pd\n",
    "student_details = np.array([['Jon',25,1995,2016],['Maria',47,1973,2000],['Bill',38,1982,2005]], dtype=object)\n",
    "df = pd.DataFrame(student_details, columns = ['Name','Age','Birth Year','Graduation Year'])\n",
    "print(df)"
   ]
  },
  {
   "cell_type": "code",
   "execution_count": 4,
   "id": "898bdb67-7e4b-477a-a139-e3b14c706356",
   "metadata": {},
   "outputs": [
    {
     "name": "stdout",
     "output_type": "stream",
     "text": [
      "    Name Age Birth Year Graduation Year\n",
      "0    Jon  25       1995            2016\n",
      "1  Maria  47       1973            2000\n",
      "2   Bill  38       1982            2005\n",
      "<class 'pandas.core.frame.DataFrame'>\n",
      "Name               object\n",
      "Age                object\n",
      "Birth Year         object\n",
      "Graduation Year    object\n",
      "dtype: object\n"
     ]
    }
   ],
   "source": [
    "import numpy as np\n",
    "import pandas as pd\n",
    "student_details = np.array([['Jon',25,1995,2016],['Maria',47,1973,2000],['Bill',38,1982,2005]], dtype=object)\n",
    "df = pd.DataFrame(student_details, columns = ['Name','Age','Birth Year','Graduation Year'])\n",
    "print(df)\n",
    "print(type(df))\n",
    "print(df.dtypes)"
   ]
  },
  {
   "cell_type": "code",
   "execution_count": 5,
   "id": "03ff50de-3d27-4d0f-bd93-66c7ac836e42",
   "metadata": {},
   "outputs": [
    {
     "name": "stdout",
     "output_type": "stream",
     "text": [
      "    Name  Age  Birth Year  Graduation Year\n",
      "0    Jon   25        1995             2016\n",
      "1  Maria   47        1973             2000\n",
      "2   Bill   38        1982             2005\n",
      "<class 'pandas.core.frame.DataFrame'>\n",
      "Name               object\n",
      "Age                 int32\n",
      "Birth Year          int32\n",
      "Graduation Year     int32\n",
      "dtype: object\n"
     ]
    }
   ],
   "source": [
    "import numpy as np\n",
    "import pandas as pd\n",
    "student_details= np.array([['Jon',25,1995,2016],['Maria',47,1973,2000],['Bill',38,1982,2005]])\n",
    "df = pd.DataFrame(student_details, columns = ['Name','Age','Birth Year','Graduation Year'])\n",
    "df['Age'] = df['Age'].astype(int)\n",
    "df['Birth Year'] = df['Birth Year'].astype(int)\n",
    "df['Graduation Year'] = df['Graduation Year'].astype(int)\n",
    "\n",
    "print(df)\n",
    "print(type(df))\n",
    "print(df.dtypes)"
   ]
  },
  {
   "cell_type": "markdown",
   "id": "8e68bf27-35e2-4f67-8d45-681a0cb615df",
   "metadata": {},
   "source": [
    "#### EXAMPLE 3"
   ]
  },
  {
   "cell_type": "markdown",
   "id": "015a7668-a9f6-4620-a7d7-1803cd63fa56",
   "metadata": {},
   "source": [
    "#### ADD ARRAY AS NEW COLUMN IN DATAFRAME"
   ]
  },
  {
   "cell_type": "code",
   "execution_count": 7,
   "id": "0aa75b18-1ac3-4a6c-a167-2cc0d40f3602",
   "metadata": {},
   "outputs": [
    {
     "name": "stdout",
     "output_type": "stream",
     "text": [
      "   Game1  Game2  Game3  Game4\n",
      "0     25      5     11      2\n",
      "1     12      7      8      3\n",
      "2     15      7     10      1\n",
      "3     14      9      6      0\n",
      "4     19     12      6      2\n",
      "5     23      9      5      7\n",
      "6     25      9      9      8\n",
      "7     29      4     12      2\n"
     ]
    }
   ],
   "source": [
    "import numpy as np\n",
    "import pandas as pd\n",
    "\n",
    "#create pandas DataFrame\n",
    "df = pd.DataFrame({'Game1': [25, 12, 15, 14, 19, 23, 25, 29],\n",
    "                   'Game2': [5, 7, 7, 9, 12, 9, 9, 4],\n",
    "                   'Game3': [11, 8, 10, 6, 6, 5, 9, 12]})\n",
    "\n",
    "#create NumPy array for 'Game4'\n",
    "Game4 = np.array([2, 3, 1, 0, 2, 7, 8, 2])\n",
    "\n",
    "#add 'Game4' array as new column in DataFrame\n",
    "df['Game4'] = Game4.tolist()\n",
    "\n",
    "#display the DataFrame\n",
    "print(df)\n"
   ]
  },
  {
   "cell_type": "markdown",
   "id": "0b3bd83e-0dc8-4528-ab48-1f34b01195c4",
   "metadata": {},
   "source": [
    "#### LIST TO DICTIONARY"
   ]
  },
  {
   "cell_type": "markdown",
   "id": "34090577-806b-4b12-8664-659d7d4b8894",
   "metadata": {},
   "source": [
    "#### EX 1 CONVERT LIST OF TUPLES TO DICTIONARY"
   ]
  },
  {
   "cell_type": "code",
   "execution_count": 8,
   "id": "87fa69bc-e91a-400d-a3e4-83572df01337",
   "metadata": {},
   "outputs": [
    {
     "name": "stdout",
     "output_type": "stream",
     "text": [
      "{'Abi': 67, 'John': 54}\n"
     ]
    }
   ],
   "source": [
    "Marks=[('Abi',67),('John',54)]\n",
    "Marks_Dict=dict(Marks)\n",
    "print(Marks_Dict)"
   ]
  },
  {
   "cell_type": "markdown",
   "id": "3ba994d1-3d96-415c-ad27-5b7b99be9a54",
   "metadata": {},
   "source": [
    "#### EX 2 "
   ]
  },
  {
   "cell_type": "markdown",
   "id": "dd94556e-510d-45cb-b2c2-faf39c04ee7b",
   "metadata": {},
   "source": [
    "#### Converting two lists of same length to a dictionary using dict & zip method"
   ]
  },
  {
   "cell_type": "code",
   "execution_count": 10,
   "id": "6b1cabaa-d1b7-4fb0-9991-525490f8a823",
   "metadata": {},
   "outputs": [
    {
     "name": "stdout",
     "output_type": "stream",
     "text": [
      "{1: 'python', 2: 'machine learning', 3: 'data science'}\n"
     ]
    }
   ],
   "source": [
    "index = [1, 2, 3]\n",
    "courses = ['python', 'machine learning', 'data science']\n",
    "\n",
    "dictionary = dict(zip(index, courses))\n",
    "print(dictionary)"
   ]
  },
  {
   "cell_type": "markdown",
   "id": "82a9641e-eb16-4dcd-b172-41bd3aef7d30",
   "metadata": {},
   "source": [
    "#### Converting two lists of same length to a dictionary using zip method"
   ]
  },
  {
   "cell_type": "code",
   "execution_count": 11,
   "id": "0c81e4f4-a490-49ee-84a3-ae669841d05c",
   "metadata": {},
   "outputs": [
    {
     "name": "stdout",
     "output_type": "stream",
     "text": [
      "{1: 'python', 2: 'machine learning', 3: 'data science'}\n"
     ]
    }
   ],
   "source": [
    "index = [1, 2, 3]\n",
    "courses = ['python', 'machine learning', 'data science']\n",
    "\n",
    "dictionary = {k: v for k, v in zip(index, courses)}\n",
    "print(dictionary)"
   ]
  },
  {
   "cell_type": "markdown",
   "id": "e0a3a34b-42b3-47a9-8bb6-ed8bb3d82f73",
   "metadata": {},
   "source": [
    "#### EX 3"
   ]
  },
  {
   "cell_type": "code",
   "execution_count": 12,
   "id": "f7c6a82e-ac63-45b6-be42-b445b57e957b",
   "metadata": {},
   "outputs": [
    {
     "name": "stdout",
     "output_type": "stream",
     "text": [
      "{1: 1, 2: 4, 3: 9, 4: 16, 5: 25, 6: 36, 7: 49, 8: 64, 9: 81, 10: 100}\n"
     ]
    }
   ],
   "source": [
    "list1 = [1, 2, 3, 4, 5, 6, 7, 8, 9, 10]  \n",
    "square_dict = {n: n*n for n in list1}  \n",
    "print(square_dict)  "
   ]
  },
  {
   "cell_type": "markdown",
   "id": "c3275093-2360-4473-9608-f6bae8d12944",
   "metadata": {},
   "source": [
    "#### LIST TO SET"
   ]
  },
  {
   "cell_type": "markdown",
   "id": "a91014b3-e729-4fa8-b3c0-96c5e165c7d5",
   "metadata": {},
   "source": [
    "#### USING set() FUNCTION"
   ]
  },
  {
   "cell_type": "code",
   "execution_count": 14,
   "id": "319d3d26-8bb5-4cad-8fdd-7bdb6599f0b3",
   "metadata": {},
   "outputs": [
    {
     "name": "stdout",
     "output_type": "stream",
     "text": [
      "{98, 38, 76, 45, 23, 62}\n"
     ]
    }
   ],
   "source": [
    "Marks = [45,98,23,76,38,62]\n",
    "Marks_Set= set(Marks)\n",
    "print(Marks_Set)"
   ]
  },
  {
   "cell_type": "markdown",
   "id": "2247ed2d-fd47-44bd-924d-efad98a31df3",
   "metadata": {},
   "source": [
    "#### USING for loop()"
   ]
  },
  {
   "cell_type": "code",
   "execution_count": 15,
   "id": "91501988-300f-4a57-bf4c-b9c0276deca1",
   "metadata": {},
   "outputs": [
    {
     "name": "stdout",
     "output_type": "stream",
     "text": [
      "{98, 38, 76, 45, 23, 62}\n"
     ]
    }
   ],
   "source": [
    "Marks = [45,98,23,76,38,62]\n",
    "my_set = set() \n",
    "# Using for loop\n",
    "for num in Marks:\n",
    "    # Adding num to my_set\n",
    "    my_set.add(num)\n",
    "print(my_set)"
   ]
  },
  {
   "cell_type": "markdown",
   "id": "9e535109-e3e1-49d9-ac4a-41e3998a2bfb",
   "metadata": {},
   "source": [
    "#### USING set COMPREHENSION"
   ]
  },
  {
   "cell_type": "code",
   "execution_count": 16,
   "id": "da222137-59b5-42da-b4bd-b83b77a7f346",
   "metadata": {},
   "outputs": [
    {
     "name": "stdout",
     "output_type": "stream",
     "text": [
      "{98, 38, 76, 45, 23, 62}\n"
     ]
    }
   ],
   "source": [
    "Marks = {s for s in [45,98,23,76,38,62]}\n",
    "print(Marks)"
   ]
  },
  {
   "cell_type": "markdown",
   "id": "e4006680-54ca-4cdc-a10a-bc384a6edcfc",
   "metadata": {},
   "source": [
    "#### LIST TO TUPLE"
   ]
  },
  {
   "cell_type": "markdown",
   "id": "210a588c-58c8-4119-95aa-eac3140cb3f3",
   "metadata": {},
   "source": [
    "#### USING tuple() FUNCTION"
   ]
  },
  {
   "cell_type": "code",
   "execution_count": 18,
   "id": "fd30614c-fee3-4fa3-8fcc-23df22098280",
   "metadata": {},
   "outputs": [
    {
     "name": "stdout",
     "output_type": "stream",
     "text": [
      "(45, 98, 23, 76, 38, 62)\n"
     ]
    }
   ],
   "source": [
    "Marks = [45,98,23,76,38,62]\n",
    "Marks_tuple= tuple(Marks)\n",
    "print(Marks_tuple)"
   ]
  },
  {
   "cell_type": "markdown",
   "id": "76c62f6a-1224-4dda-9ec7-4ef8e3d0b65e",
   "metadata": {},
   "source": [
    "#### USING LOOP"
   ]
  },
  {
   "cell_type": "code",
   "execution_count": 19,
   "id": "a82ae5f6-c66a-4b9e-b014-e7c803819a75",
   "metadata": {},
   "outputs": [
    {
     "name": "stdout",
     "output_type": "stream",
     "text": [
      "(45, 98, 23, 76, 38, 62)\n"
     ]
    }
   ],
   "source": [
    "Marks = [45,98,23,76,38,62]\n",
    "Marks_tuple= tuple(i for i in Marks)\n",
    "print(Marks_tuple)"
   ]
  },
  {
   "cell_type": "markdown",
   "id": "a663dda3-e183-4032-a07c-db0d7a2b6666",
   "metadata": {},
   "source": [
    "#### Extract Dictionary values as a List"
   ]
  },
  {
   "cell_type": "markdown",
   "id": "d037c88d-b82c-4535-9035-894f20849c36",
   "metadata": {},
   "source": [
    "#### EX 1"
   ]
  },
  {
   "cell_type": "code",
   "execution_count": 20,
   "id": "243b1dec-a498-46bb-b439-2accb3f10947",
   "metadata": {},
   "outputs": [
    {
     "name": "stdout",
     "output_type": "stream",
     "text": [
      "[300, 150, 500, 850, 400]\n"
     ]
    }
   ],
   "source": [
    "my_dict = {'A': 300, 'B': 150, 'C': 500, 'D': 850, 'E': 400}\n",
    "my_list = list(my_dict.values())\n",
    "print(my_list)"
   ]
  },
  {
   "cell_type": "markdown",
   "id": "e3db48f2-9d94-456e-bf08-2c8df3f7a6b1",
   "metadata": {},
   "source": [
    " #### Using List comprehension"
   ]
  },
  {
   "cell_type": "code",
   "execution_count": 21,
   "id": "823719a5-9fb6-4211-b66d-89ae4b201db4",
   "metadata": {},
   "outputs": [
    {
     "name": "stdout",
     "output_type": "stream",
     "text": [
      "[300, 150, 500, 850, 400]\n"
     ]
    }
   ],
   "source": [
    "my_dict = {'A': 300, 'B': 150, 'C': 500, 'D': 850, 'E': 400}\n",
    "my_list = [i for i in my_dict.values()]\n",
    "print(my_list)"
   ]
  },
  {
   "cell_type": "markdown",
   "id": "78b0ce9f-55c9-4dbf-8467-212a94e66fa3",
   "metadata": {},
   "source": [
    "#### EX 2"
   ]
  },
  {
   "cell_type": "code",
   "execution_count": 22,
   "id": "2c2863b8-8e9a-490a-beeb-621f13b28725",
   "metadata": {},
   "outputs": [
    {
     "name": "stdout",
     "output_type": "stream",
     "text": [
      "[[300, 305, 310], [150, 155, 160], [500, 505, 510]]\n"
     ]
    }
   ],
   "source": [
    "my_dict = {'A': [300, 305, 310], 'B': [150, 155, 160], 'C': [500, 505, 510]}\n",
    "my_list = list(my_dict.values())\n",
    "print(my_list)"
   ]
  },
  {
   "cell_type": "markdown",
   "id": "138b37e0-9b92-4edc-b4c1-437dc6fb15d1",
   "metadata": {},
   "source": [
    "#### DICTIONARY TO LIST"
   ]
  },
  {
   "cell_type": "markdown",
   "id": "d3280447-8f0f-4a85-925d-2be62ccf141f",
   "metadata": {},
   "source": [
    "#### EX 1"
   ]
  },
  {
   "cell_type": "markdown",
   "id": "9c7b2b69-2948-4c6a-9247-efce5374c1b7",
   "metadata": {},
   "source": [
    "#### Using list and items() method"
   ]
  },
  {
   "cell_type": "code",
   "execution_count": 23,
   "id": "2e0bd808-b34a-436f-b04f-56b76502597a",
   "metadata": {},
   "outputs": [
    {
     "name": "stdout",
     "output_type": "stream",
     "text": [
      "[('Hello', 10), ('HopeAI', 20), ('python', 30)]\n"
     ]
    }
   ],
   "source": [
    "inputDictionary = {'Hello': 10, 'HopeAI': 20, 'python': 30}\n",
    "resultList = list(inputDictionary.items())\n",
    "print(resultList)"
   ]
  },
  {
   "cell_type": "markdown",
   "id": "f548dd52-c954-4742-a47e-ec6e48c359a9",
   "metadata": {},
   "source": [
    "#### Using keys() method"
   ]
  },
  {
   "cell_type": "code",
   "execution_count": 24,
   "id": "de3254bd-b5d1-45d8-a04c-697846051a51",
   "metadata": {},
   "outputs": [
    {
     "name": "stdout",
     "output_type": "stream",
     "text": [
      "['Hello', 'HopeAI', 'python']\n"
     ]
    }
   ],
   "source": [
    "inputDictionary = {'Hello': 10, 'HopeAI': 20, 'python': 30}\n",
    "resultList = list(inputDictionary.keys())\n",
    "print(resultList)"
   ]
  },
  {
   "cell_type": "markdown",
   "id": "cf8df2fa-9050-4939-960e-76f18bcc00bb",
   "metadata": {},
   "source": [
    "#### Using values() method"
   ]
  },
  {
   "cell_type": "code",
   "execution_count": 25,
   "id": "ca1844aa-9f6e-4d96-870a-07769dd49979",
   "metadata": {},
   "outputs": [
    {
     "name": "stdout",
     "output_type": "stream",
     "text": [
      "[10, 20, 30]\n"
     ]
    }
   ],
   "source": [
    "inputDictionary = {'Hello': 10, 'HopeAI': 20, 'python': 30}\n",
    "resultList = list(inputDictionary.values())\n",
    "print(resultList)"
   ]
  },
  {
   "cell_type": "markdown",
   "id": "15b4cacb-7e9d-4d94-b7f7-ac204952d129",
   "metadata": {},
   "source": [
    "#### Using list comprehension"
   ]
  },
  {
   "cell_type": "code",
   "execution_count": 26,
   "id": "f92f8050-b778-443b-a772-47c02ca104b7",
   "metadata": {},
   "outputs": [
    {
     "name": "stdout",
     "output_type": "stream",
     "text": [
      "[('Hello', 10), ('HopeAI', 20), ('python', 30)]\n"
     ]
    }
   ],
   "source": [
    "inputDictionary = {'Hello': 10, 'HopeAI': 20, 'python': 30}\n",
    "resultList = [(key, value) for key, value in inputDictionary.items()]\n",
    "print(resultList)"
   ]
  },
  {
   "cell_type": "markdown",
   "id": "e6cbf8f3-479f-448b-9633-ceb5ec7a6082",
   "metadata": {},
   "source": [
    "#### Using zip() method"
   ]
  },
  {
   "cell_type": "code",
   "execution_count": 27,
   "id": "e2f7ad7f-712c-40ce-9a99-826c35d28330",
   "metadata": {},
   "outputs": [
    {
     "name": "stdout",
     "output_type": "stream",
     "text": [
      "[('Hello', 10), ('HopeAI', 20), ('python', 30)]\n"
     ]
    }
   ],
   "source": [
    "inputDictionary = {'Hello': 10, 'HopeAI': 20, 'python': 30}\n",
    "resultList = zip(inputDictionary.keys(), inputDictionary.values())\n",
    "resultList = list(resultList)\n",
    "print(resultList)"
   ]
  },
  {
   "cell_type": "markdown",
   "id": "8d3def87-f69f-46b9-9403-8fe09eea7b4a",
   "metadata": {},
   "source": [
    "#### Using map() function"
   ]
  },
  {
   "cell_type": "code",
   "execution_count": 28,
   "id": "28255e0d-4191-4a88-8183-01532cf2faf3",
   "metadata": {},
   "outputs": [
    {
     "name": "stdout",
     "output_type": "stream",
     "text": [
      "[['Hello', 10], ['HopeAI', 20], ['python', 30]]\n"
     ]
    }
   ],
   "source": [
    "inputDictionary = {'Hello': 10, 'HopeAI': 20, 'python': 30}\n",
    "resultList = new_list = list(map(list, inputDictionary.items()))\n",
    "print(resultList)"
   ]
  },
  {
   "cell_type": "markdown",
   "id": "700a9669-ffa7-421e-82d3-05b23457f296",
   "metadata": {},
   "source": [
    "## Set to Tuple"
   ]
  },
  {
   "cell_type": "code",
   "execution_count": 29,
   "id": "4d510930-f9af-49b3-8ff2-667b1a173292",
   "metadata": {},
   "outputs": [
    {
     "name": "stdout",
     "output_type": "stream",
     "text": [
      "('Python', 'Machine Learning', 'Deep Learning', 'Data Science')\n"
     ]
    }
   ],
   "source": [
    "Course={'Machine Learning','Python','Data Science','Deep Learning'}\n",
    "Course_Names=tuple(Course)\n",
    "print(Course_Names)"
   ]
  },
  {
   "cell_type": "markdown",
   "id": "f7605573-8aa8-4ec5-ad35-bc9ad1a64951",
   "metadata": {},
   "source": [
    "#### Using List comprehension"
   ]
  },
  {
   "cell_type": "code",
   "execution_count": 30,
   "id": "a7b29bf5-1d07-471b-981d-79a7df322f54",
   "metadata": {},
   "outputs": [
    {
     "name": "stdout",
     "output_type": "stream",
     "text": [
      "('Python', 'Machine Learning', 'Deep Learning', 'Data Science')\n"
     ]
    }
   ],
   "source": [
    "Course={'Machine Learning','Python','Data Science','Deep Learning'}\n",
    "Course_Names=[i for i in Course]\n",
    "print(tuple(Course_Names))"
   ]
  },
  {
   "cell_type": "markdown",
   "id": "29b4131a-0bbe-4756-80de-356248639593",
   "metadata": {},
   "source": [
    "## Set to List"
   ]
  },
  {
   "cell_type": "code",
   "execution_count": 31,
   "id": "0d8e7796-a9ee-4fb1-84b2-f458f9bf8d50",
   "metadata": {},
   "outputs": [
    {
     "name": "stdout",
     "output_type": "stream",
     "text": [
      "['Python', 'Machine Learning', 'Deep Learning', 'Data Science']\n"
     ]
    }
   ],
   "source": [
    "Course={'Machine Learning','Python','Data Science','Deep Learning'}\n",
    "Course_Names=list(Course)\n",
    "print(Course_Names)"
   ]
  },
  {
   "cell_type": "markdown",
   "id": "e261af77-f75c-435d-b7b1-d6b55c7e3c5f",
   "metadata": {},
   "source": [
    "## Set to Dictionary"
   ]
  },
  {
   "cell_type": "code",
   "execution_count": 32,
   "id": "605a993b-ea6b-4e38-994b-537c1aad091f",
   "metadata": {},
   "outputs": [
    {
     "name": "stdout",
     "output_type": "stream",
     "text": [
      "{1: 'Mon', 2: 'Thu', 3: 'Tue', 4: 'Wed'}\n"
     ]
    }
   ],
   "source": [
    "list_keys = {1,2,3,4}\n",
    "list_values = {'Mon','Tue','Wed','Thu'}\n",
    "new_dict = dict(zip(list_keys, list_values))\n",
    "print(new_dict)"
   ]
  },
  {
   "cell_type": "markdown",
   "id": "e15dd7c9-3f16-4704-8e11-413437e68e1c",
   "metadata": {},
   "source": [
    "#### Using dict.fromkeys()"
   ]
  },
  {
   "cell_type": "code",
   "execution_count": 33,
   "id": "e8363769-1ff1-440b-a193-99e46c31fb91",
   "metadata": {},
   "outputs": [
    {
     "name": "stdout",
     "output_type": "stream",
     "text": [
      "{1: 'Mon', 2: 'Mon', 3: 'Mon', 4: 'Mon'}\n"
     ]
    }
   ],
   "source": [
    "list_keys = {1,2,3,4}\n",
    "new_dict = dict.fromkeys(list_keys,'Mon')\n",
    "print(new_dict)"
   ]
  },
  {
   "cell_type": "markdown",
   "id": "fc1a2b39-3907-4d09-9ec9-760ffedd3cce",
   "metadata": {},
   "source": [
    "## Tuple to Set"
   ]
  },
  {
   "cell_type": "code",
   "execution_count": 34,
   "id": "f07a316c-8c79-498b-8e99-14269dcdf924",
   "metadata": {},
   "outputs": [
    {
     "name": "stdout",
     "output_type": "stream",
     "text": [
      "{'Python', 'Machine Learning', 'Deep Learning', 'Data Science'}\n"
     ]
    }
   ],
   "source": [
    "Course=('Machine Learning','Python','Data Science','Deep Learning')\n",
    "Course_Names=set(Course)\n",
    "print(Course_Names)"
   ]
  },
  {
   "cell_type": "markdown",
   "id": "e49443e1-785a-44b2-9020-a5dba9f1ebfb",
   "metadata": {},
   "source": [
    "## Tuple to List"
   ]
  },
  {
   "cell_type": "code",
   "execution_count": 35,
   "id": "dbcb41d4-e508-405c-94b9-c1b4f744194e",
   "metadata": {},
   "outputs": [
    {
     "name": "stdout",
     "output_type": "stream",
     "text": [
      "['Machine Learning', 'Python', 'Data Science', 'Deep Learning']\n"
     ]
    }
   ],
   "source": [
    "Course=('Machine Learning','Python','Data Science','Deep Learning')\n",
    "Course_Names=list(Course)\n",
    "print(Course_Names)"
   ]
  },
  {
   "cell_type": "markdown",
   "id": "2de07967-22b8-44f8-a85b-d962dbc36c1d",
   "metadata": {},
   "source": [
    "## Tuple to Dictionary"
   ]
  },
  {
   "cell_type": "markdown",
   "id": "8ba2c074-37f6-452d-952e-23077f540dac",
   "metadata": {},
   "source": [
    "#### Using dict()"
   ]
  },
  {
   "cell_type": "code",
   "execution_count": 36,
   "id": "19fb521b-697a-4261-b400-0495d7471a48",
   "metadata": {},
   "outputs": [
    {
     "name": "stdout",
     "output_type": "stream",
     "text": [
      "{'Tiger': 4, 'Cat': 6, 'Dog': 8, 'Elephant': 10}\n"
     ]
    }
   ],
   "source": [
    "my_tuples = (('Tiger', 4), ('Cat', 6), ('Dog', 8), ('Elephant', 10))\n",
    "my_dict = dict(my_tuples)\n",
    "print(my_dict)"
   ]
  },
  {
   "cell_type": "markdown",
   "id": "ee68e15f-92ec-4921-99be-88cb06930e32",
   "metadata": {},
   "source": [
    "#### Using zip() method"
   ]
  },
  {
   "cell_type": "code",
   "execution_count": 38,
   "id": "af6b67d3-c3ea-48a9-936a-b78642ab5073",
   "metadata": {},
   "outputs": [
    {
     "name": "stdout",
     "output_type": "stream",
     "text": [
      "{1: 'Machine Learning', 2: 'Python', 3: 'Data Science', 4: 'Deep Learning'}\n"
     ]
    }
   ],
   "source": [
    "list_keys = (1,2,3,4)\n",
    "list_values = ('Machine Learning','Python','Data Science','Deep Learning')\n",
    "Course = dict(zip(list_keys, list_values))\n",
    "print(Course)"
   ]
  },
  {
   "cell_type": "markdown",
   "id": "f469e25b-4200-406e-a295-117e3ae56a16",
   "metadata": {},
   "source": [
    "## DataType Conversion"
   ]
  },
  {
   "cell_type": "markdown",
   "id": "21bd3606-318a-41e1-8742-5cb18ffaf25b",
   "metadata": {},
   "source": [
    "#### Convert ASCII value to characters"
   ]
  },
  {
   "cell_type": "code",
   "execution_count": 39,
   "id": "483519c6-b283-4c3f-9c07-d458e7e41d71",
   "metadata": {},
   "outputs": [
    {
     "name": "stdout",
     "output_type": "stream",
     "text": [
      "A\n",
      "M\n"
     ]
    }
   ],
   "source": [
    "a = chr(65)\n",
    "b = chr(77)\n",
    "  \n",
    "print(a)\n",
    "print(b)"
   ]
  },
  {
   "cell_type": "markdown",
   "id": "5b5f6be6-caff-4403-96b4-56edf912b97c",
   "metadata": {},
   "source": [
    "#### Converting integer to float using Implicit function"
   ]
  },
  {
   "cell_type": "code",
   "execution_count": 40,
   "id": "8bdfe1e8-be79-424e-af51-18b6bc1ecb65",
   "metadata": {},
   "outputs": [
    {
     "name": "stdout",
     "output_type": "stream",
     "text": [
      "Value: 13.23\n",
      "DataType: <class 'float'>\n"
     ]
    }
   ],
   "source": [
    "num1 = 12\n",
    "num2 = 1.23\n",
    "\n",
    "new_num = num1 + num2\n",
    "\n",
    "# display new value and resulting data type\n",
    "print(\"Value:\",new_num)\n",
    "print(\"DataType:\",type(new_num))"
   ]
  },
  {
   "cell_type": "markdown",
   "id": "453bada4-8ea9-4000-906a-a1db2859e2ce",
   "metadata": {},
   "source": [
    "#### Addition of string and integer Using Explicit Conversion"
   ]
  },
  {
   "cell_type": "code",
   "execution_count": 41,
   "id": "f93cb00b-c996-4f57-9e63-392238ddecd1",
   "metadata": {},
   "outputs": [
    {
     "name": "stdout",
     "output_type": "stream",
     "text": [
      "Sum: 35\n",
      "DataType: <class 'int'>\n"
     ]
    }
   ],
   "source": [
    "num_str = '12'\n",
    "num_int = 23\n",
    "# explicit type conversion\n",
    "num_str = int(num_str)\n",
    "num_sum = num_int + num_str\n",
    "\n",
    "print(\"Sum:\",num_sum)\n",
    "print(\"DataType:\",type(num_sum))"
   ]
  },
  {
   "cell_type": "markdown",
   "id": "fb459287-decb-4b5d-83fd-4e5c14e84705",
   "metadata": {},
   "source": [
    "#### Converting String to Numeric Types"
   ]
  },
  {
   "cell_type": "code",
   "execution_count": 42,
   "id": "da847bbf-481e-4ddd-8373-e66f4eeaafd3",
   "metadata": {},
   "outputs": [
    {
     "name": "stdout",
     "output_type": "stream",
     "text": [
      "56\n",
      "86\n",
      "66\n",
      "25.897\n"
     ]
    }
   ],
   "source": [
    "str_num = '56'\n",
    "print(int(str_num))    #default base is 10\n",
    "print(int(str_num, 16))    #From Hexadecimal\n",
    "print(int(str_num, 12))    #From a number where base is 12\n",
    "str_num = '25.897'\n",
    "print(float(str_num))    #convert string to floating point value"
   ]
  },
  {
   "cell_type": "markdown",
   "id": "e6c81a84-22c0-4cd6-8f9b-6c900031273b",
   "metadata": {},
   "source": [
    "#### String to character converting and Base converting"
   ]
  },
  {
   "cell_type": "code",
   "execution_count": 43,
   "id": "8a8a98a4-4238-41a8-8a90-def96577f614",
   "metadata": {},
   "outputs": [
    {
     "name": "stdout",
     "output_type": "stream",
     "text": [
      "ASCII value of \"M\" is: 77\n",
      "Hexadecimal value of 254 is: 0xfe\n",
      "Octal value of 62 is: 0o76\n",
      "Binary value of 56 is: 0b111000\n"
     ]
    }
   ],
   "source": [
    "print('ASCII value of \"M\" is: ' + str(ord('M')))\n",
    "print('Hexadecimal value of 254 is: ' + str(hex(254)))\n",
    "print('Octal value of 62 is: ' + str(oct(62)))\n",
    "print('Binary value of 56 is: ' + str(bin(56)))"
   ]
  },
  {
   "cell_type": "markdown",
   "id": "888aca42-9d85-4835-a363-d3ae570a796e",
   "metadata": {},
   "source": [
    "#### Converting Containers"
   ]
  },
  {
   "cell_type": "code",
   "execution_count": 44,
   "id": "5084c6e2-0846-46e0-a01e-85b19b9f8c80",
   "metadata": {},
   "outputs": [
    {
     "name": "stdout",
     "output_type": "stream",
     "text": [
      "list to tuple: (10, 20, 30, 40, 50)\n",
      "list to set: {40, 10, 50, 20, 30}\n",
      "set to list: [10, 20, 50, 30]\n",
      "set to tuple: (10, 20, 50, 30)\n",
      "tuple to list: [10, 25, 50, 75, 100]\n",
      "tuple to set: {100, 10, 75, 50, 25}\n"
     ]
    }
   ],
   "source": [
    "my_list = [10, 20, 30, 40, 50]\n",
    "my_set = {10, 10, 20, 30, 20, 50, 20}\n",
    "my_tuple = (10, 25, 50, 75, 100)\n",
    "print('list to tuple: ' + str(tuple(my_list)))\n",
    "print('list to set: ' + str(set(my_list)))\n",
    "print('set to list: ' + str(list(my_set)))\n",
    "print('set to tuple: ' + str(tuple(my_set)))\n",
    "print('tuple to list: ' + str(list(my_tuple)))\n",
    "print('tuple to set: ' + str(set(my_tuple)))"
   ]
  },
  {
   "cell_type": "markdown",
   "id": "c7a3a547-4162-4afd-8e62-aa2d6ca81e64",
   "metadata": {},
   "source": [
    "#### convert to complex number"
   ]
  },
  {
   "cell_type": "code",
   "execution_count": 47,
   "id": "9df45649-8800-43d7-b988-021ce38cd9f3",
   "metadata": {},
   "outputs": [
    {
     "name": "stdout",
     "output_type": "stream",
     "text": [
      "(14+2j)\n"
     ]
    }
   ],
   "source": [
    "my_complex = complex(14, 2) \n",
    "print(my_complex)"
   ]
  },
  {
   "cell_type": "markdown",
   "id": "903f9dbd-cbc3-49e1-baa7-042471d3c508",
   "metadata": {},
   "source": [
    "#### Using ord() function"
   ]
  },
  {
   "cell_type": "code",
   "execution_count": 48,
   "id": "e7dc1410-2d0e-4dee-85a7-9710dbe97607",
   "metadata": {},
   "outputs": [
    {
     "name": "stdout",
     "output_type": "stream",
     "text": [
      "43\n",
      "65\n"
     ]
    }
   ],
   "source": [
    "a = '+'\n",
    "b = 'A'\n",
    "\n",
    "print(ord(a))\n",
    "print(ord(b))"
   ]
  },
  {
   "cell_type": "markdown",
   "id": "8f5a0aa6-bc4e-4286-8006-68a6f3b37253",
   "metadata": {},
   "source": [
    "### Primitive datatype Conversions"
   ]
  },
  {
   "cell_type": "code",
   "execution_count": 49,
   "id": "26adc63a-e657-4f40-b984-976d42651500",
   "metadata": {},
   "outputs": [
    {
     "data": {
      "text/plain": [
       "array([1, 2, 2])"
      ]
     },
     "execution_count": 49,
     "metadata": {},
     "output_type": "execute_result"
    }
   ],
   "source": [
    "import numpy as np\n",
    "x = np.array([1, 2, 2.5])\n",
    "x.astype(int)"
   ]
  },
  {
   "cell_type": "code",
   "execution_count": 50,
   "id": "5211acb6-bd10-476b-bb3c-6ea3819aaa7f",
   "metadata": {},
   "outputs": [
    {
     "name": "stdout",
     "output_type": "stream",
     "text": [
      "7.0\n"
     ]
    }
   ],
   "source": [
    "# int to float\n",
    "x,y=3,4\n",
    "z= float(x+y)\n",
    "print(z)"
   ]
  },
  {
   "cell_type": "code",
   "execution_count": 51,
   "id": "208fa622-4880-478b-ad36-035a9b10b49e",
   "metadata": {},
   "outputs": [
    {
     "name": "stdout",
     "output_type": "stream",
     "text": [
      "8\n"
     ]
    }
   ],
   "source": [
    "#float to int\n",
    "x,y=3.5, 4.8\n",
    "z= int(x+y)\n",
    "print(z)"
   ]
  },
  {
   "cell_type": "code",
   "execution_count": 52,
   "id": "90756893-4335-47a2-86dd-bfc10b44521c",
   "metadata": {},
   "outputs": [
    {
     "name": "stdout",
     "output_type": "stream",
     "text": [
      "The total is: 65$\n"
     ]
    }
   ],
   "source": [
    "# int to str\n",
    "chocolate = 25\n",
    "icecream = 40\n",
    "total = chocolate + icecream\n",
    "print(\"The total is: \" + str(total)  + \"$\")"
   ]
  },
  {
   "cell_type": "code",
   "execution_count": null,
   "id": "814b7eac-e1c3-468a-b87d-ee1c4c9acade",
   "metadata": {},
   "outputs": [],
   "source": []
  }
 ],
 "metadata": {
  "kernelspec": {
   "display_name": "Python 3 (ipykernel)",
   "language": "python",
   "name": "python3"
  },
  "language_info": {
   "codemirror_mode": {
    "name": "ipython",
    "version": 3
   },
   "file_extension": ".py",
   "mimetype": "text/x-python",
   "name": "python",
   "nbconvert_exporter": "python",
   "pygments_lexer": "ipython3",
   "version": "3.10.14"
  }
 },
 "nbformat": 4,
 "nbformat_minor": 5
}
