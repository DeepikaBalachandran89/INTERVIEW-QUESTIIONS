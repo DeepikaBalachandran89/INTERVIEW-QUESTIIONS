{
 "cells": [
  {
   "cell_type": "markdown",
   "id": "227075b2-f745-4929-90de-e5ac59439aad",
   "metadata": {},
   "source": [
    "#### Numbers"
   ]
  },
  {
   "cell_type": "markdown",
   "id": "c89d4f92-39cc-40d1-a5a8-754198fc4b66",
   "metadata": {},
   "source": [
    "### 1. Print min and max number"
   ]
  },
  {
   "cell_type": "code",
   "execution_count": 1,
   "id": "de7c92d2-c385-4964-bce1-84f260a3634c",
   "metadata": {},
   "outputs": [
    {
     "name": "stdout",
     "output_type": "stream",
     "text": [
      "Minimum _Number: 2\n",
      "Maximum _Number: 98\n"
     ]
    }
   ],
   "source": [
    "print(\"Minimum _Number:\",min(34,7,98,56,2,63))\n",
    "print(\"Maximum _Number:\",max(34,7,98,56,2,63))"
   ]
  },
  {
   "cell_type": "code",
   "execution_count": 2,
   "id": "2f579ba7-61da-4354-ad7f-3cca0a13befb",
   "metadata": {},
   "outputs": [
    {
     "name": "stdout",
     "output_type": "stream",
     "text": [
      "abc\n",
      "c\n"
     ]
    }
   ],
   "source": [
    "l = [\"ab\", \"abc\", \"bc\", \"c\"]\n",
    " \n",
    "print(max(l, key = len))\n",
    "print(min(l, key = len))\n",
    "\n",
    "#initially l = [“ab”, “abc”, “bc”, “c”] \n",
    "#when we passed key=len as arguments then it works like \n",
    "#l=[2,3,2,1]  "
   ]
  },
  {
   "cell_type": "code",
   "execution_count": 3,
   "id": "8393faba-eb20-4a3b-9392-0e5687bd9cdd",
   "metadata": {},
   "outputs": [
    {
     "name": "stdout",
     "output_type": "stream",
     "text": [
      "{'name': 'ramu', 'score': 90, 'age': 24}\n"
     ]
    }
   ],
   "source": [
    "l = [{'name':'ramu', 'score':90, 'age':24},\n",
    "     {'name':'golu', 'score':70, 'age':19}]\n",
    "print(max(l, key = lambda item:item.get('age')))"
   ]
  },
  {
   "cell_type": "markdown",
   "id": "dbbba9a2-5837-489c-80df-07e3ab3a81b4",
   "metadata": {},
   "source": [
    "### 2. Print Length, Minimum, Maximum number of a list"
   ]
  },
  {
   "cell_type": "code",
   "execution_count": 4,
   "id": "f55f02f9-c67e-4a0a-b2ba-ffe3dc4cbe63",
   "metadata": {},
   "outputs": [
    {
     "name": "stdout",
     "output_type": "stream",
     "text": [
      "8\n",
      "12\n",
      "98\n"
     ]
    }
   ],
   "source": [
    "List = [12, 23, 34, 78, 65, 98, 49, 51] \n",
    "print(len(List)) \n",
    "print(min(List))\n",
    "print(max(List))"
   ]
  },
  {
   "cell_type": "markdown",
   "id": "2607f73b-10e1-42aa-8125-274759e78899",
   "metadata": {},
   "source": [
    "### 3. Using Counter() function to find duplicates"
   ]
  },
  {
   "cell_type": "code",
   "execution_count": 5,
   "id": "ba7cc7fb-da24-478c-8148-5e62fa84b11d",
   "metadata": {},
   "outputs": [
    {
     "name": "stdout",
     "output_type": "stream",
     "text": [
      "Counter({1: 4, 2: 3, 5: 2, 9: 2, 3: 1, 4: 1, 6: 1, 7: 1, 8: 1})\n",
      "[1, 2, 5, 9]\n"
     ]
    }
   ],
   "source": [
    "from collections import Counter\n",
    "l1 = [1,2,1,2,3,4,5,1,1,2,5,6,7,8,9,9]\n",
    "d = Counter(l1)\n",
    "print(d)\n",
    "\n",
    "new_list = list([item for item in d if d[item]>1])\n",
    "print(new_list)"
   ]
  },
  {
   "cell_type": "markdown",
   "id": "5b383a3e-eefb-4e0d-9d8b-1907c094ef28",
   "metadata": {},
   "source": [
    "### 4. Using in, not in operators and count() method to remove duplicates"
   ]
  },
  {
   "cell_type": "code",
   "execution_count": 10,
   "id": "c79ab4d0-9cf5-4ef8-93b9-d841c48c9914",
   "metadata": {},
   "outputs": [
    {
     "name": "stdout",
     "output_type": "stream",
     "text": [
      "[1, 2, 3, 4, 5, 6, 7, 8, 9]\n"
     ]
    }
   ],
   "source": [
    "l2 = [1, 2, 1, 2, 3, 4, 5, 1, 1, 2, 5, 6, 7, 8, 9, 9]\n",
    "x = []\n",
    "y = []\n",
    "for i in l2:\n",
    "    if i not in x:\n",
    "        x.append(i)\n",
    "print(x)"
   ]
  },
  {
   "cell_type": "markdown",
   "id": "1eec6da2-32e4-4093-98f0-3c3d6659b30d",
   "metadata": {},
   "source": [
    "### 5. Using list comprehension method to remove duplicates"
   ]
  },
  {
   "cell_type": "code",
   "execution_count": 11,
   "id": "1145b4a3-b908-43c9-b064-4ef6cf3d9d03",
   "metadata": {},
   "outputs": [
    {
     "name": "stdout",
     "output_type": "stream",
     "text": [
      "[1, 2, 5, 9]\n"
     ]
    }
   ],
   "source": [
    "def duplicate(input_list):\n",
    "    return list(set([x for x in input_list if input_list.count(x) > 1]))\n",
    "\n",
    "if __name__ == '__main__':\n",
    "    input_list = [1, 2, 1, 2, 3, 4, 5, 1, 1, 2, 5, 6, 7, 8, 9, 9]\n",
    "    print(duplicate(input_list))\n"
   ]
  },
  {
   "cell_type": "markdown",
   "id": "d92aa9dd-b7f8-4f17-ab58-82cb5ae34830",
   "metadata": {},
   "source": [
    "### 6. Print unique elements using nympy"
   ]
  },
  {
   "cell_type": "code",
   "execution_count": 12,
   "id": "513db422-4af5-4624-8c45-0e8716d76364",
   "metadata": {},
   "outputs": [
    {
     "name": "stdout",
     "output_type": "stream",
     "text": [
      "['34' '40' '76' '93' 'Fri' 'Mon' 'Tue']\n"
     ]
    }
   ],
   "source": [
    "import numpy as np\n",
    "Alist=['Mon', 40, 34, 'Tue', 40, 76, 93, 'Fri', 'Tue', 34, 93]\n",
    "print(np.unique(Alist))"
   ]
  },
  {
   "cell_type": "markdown",
   "id": "42dfd419-60c7-42d3-8fbb-098373c94992",
   "metadata": {},
   "source": [
    "### 7. Print unique elements using set() function"
   ]
  },
  {
   "cell_type": "code",
   "execution_count": 13,
   "id": "31aa0abd-dd74-467d-a339-45ce79ce3eb0",
   "metadata": {},
   "outputs": [
    {
     "name": "stdout",
     "output_type": "stream",
     "text": [
      "{34, 'Fri', 40, 76, 'Tue', 'Mon', 93}\n"
     ]
    }
   ],
   "source": [
    "#List to Set\n",
    "Alist=['Mon', 40, 34, 'Tue', 40, 76, 93, 'Fri', 'Tue', 34, 93]\n",
    "Blist=set(Alist)\n",
    "print(Blist)"
   ]
  },
  {
   "cell_type": "markdown",
   "id": "58e59a29-6807-459e-a9e6-bdffbd9cd332",
   "metadata": {},
   "source": [
    "# Strings"
   ]
  },
  {
   "cell_type": "markdown",
   "id": "1e341830-692b-42dd-8cd1-0bcca9ebf932",
   "metadata": {},
   "source": [
    "### 1. Print length of a string \n",
    "### Print Minimum, Maximum element in a string "
   ]
  },
  {
   "cell_type": "code",
   "execution_count": 14,
   "id": "71ea2a28-a0fe-4f66-a182-7e7809941cf9",
   "metadata": {},
   "outputs": [
    {
     "name": "stdout",
     "output_type": "stream",
     "text": [
      "Length of a string: 38\n",
      "Minimum element: a\n",
      "Maximum element: r\n"
     ]
    }
   ],
   "source": [
    "str=\"HopeAI is a virtual training institute\"\n",
    "print(\"Length of a string:\", len(str))\n",
    "string=\"machinelearning\"\n",
    "print(\"Minimum element:\", min(string))\n",
    "print(\"Maximum element:\", max(string))"
   ]
  },
  {
   "cell_type": "markdown",
   "id": "c582b61f-6bd1-46c5-92b0-0db30b4703fe",
   "metadata": {},
   "source": [
    "### Print length of a string without using len function"
   ]
  },
  {
   "cell_type": "code",
   "execution_count": 15,
   "id": "539f9a1f-de66-4549-93a1-d331c9215d27",
   "metadata": {},
   "outputs": [
    {
     "name": "stdout",
     "output_type": "stream",
     "text": [
      "27\n"
     ]
    }
   ],
   "source": [
    "a= \"Natural Language Processing\"\n",
    "count=0\n",
    "for i in a: count+=1\n",
    "print(count)    "
   ]
  },
  {
   "cell_type": "markdown",
   "id": "e6a26156-0150-41e5-b4ba-ac442e5fa6a7",
   "metadata": {},
   "source": [
    "### 2. Remove Duplicates in a String"
   ]
  },
  {
   "cell_type": "code",
   "execution_count": 16,
   "id": "dc400a09-1b9a-423f-8e36-a27d20924597",
   "metadata": {},
   "outputs": [
    {
     "name": "stdin",
     "output_type": "stream",
     "text": [
      "Enter a Word  deepika\n"
     ]
    },
    {
     "name": "stdout",
     "output_type": "stream",
     "text": [
      "String with duplicates removed: depika\n"
     ]
    }
   ],
   "source": [
    "input_str = input(\"Enter a Word \")\n",
    "output_str = \"\"\n",
    "char_dict = {}\n",
    "for char in input_str:\n",
    "    if char not in char_dict:\n",
    "        output_str += char\n",
    "        char_dict[char] = True\n",
    "print(\"String with duplicates removed:\", output_str)\n"
   ]
  },
  {
   "cell_type": "markdown",
   "id": "d01c815d-cf6a-4aeb-9e4d-11254f51559e",
   "metadata": {},
   "source": [
    "### 3. To count vowels and consonants in a string"
   ]
  },
  {
   "cell_type": "code",
   "execution_count": 18,
   "id": "855f31ef-fa2d-4751-be66-e2d621b041ff",
   "metadata": {},
   "outputs": [
    {
     "name": "stdin",
     "output_type": "stream",
     "text": [
      "Enter a Word  deepika\n"
     ]
    },
    {
     "name": "stdout",
     "output_type": "stream",
     "text": [
      "Total vowels: 4\n",
      "Total conconants: 3\n"
     ]
    }
   ],
   "source": [
    "n = input(\"Enter a Word \")\n",
    "vow, con = 0, 0\n",
    "for i in range(len(n)):\n",
    "    if n[i] in ['a','e','i','o','u']:vow +=1\n",
    "    else:con +=1\n",
    "print(\"Total vowels:\", vow)\n",
    "print(\"Total conconants:\", con)"
   ]
  },
  {
   "cell_type": "markdown",
   "id": "763cdb4d-eef9-489e-91b4-0cf795464814",
   "metadata": {},
   "source": [
    "### 4. To count occurrences of all characters within a string"
   ]
  },
  {
   "cell_type": "code",
   "execution_count": 19,
   "id": "d3af5469-4b25-418f-af23-3393c0bb8337",
   "metadata": {},
   "outputs": [
    {
     "name": "stdin",
     "output_type": "stream",
     "text": [
      "Enter a Word  deepika\n"
     ]
    },
    {
     "name": "stdout",
     "output_type": "stream",
     "text": [
      "Character count: {'i': 1, 'p': 1, 'a': 1, 'e': 2, 'd': 1, 'k': 1}\n"
     ]
    }
   ],
   "source": [
    "input_str = input(\"Enter a Word \")\n",
    "char_dict = {char: input_str.count(char) for char in set(input_str)}\n",
    "print(\"Character count:\", char_dict)"
   ]
  },
  {
   "cell_type": "markdown",
   "id": "b34b003d-4c4c-4e58-acf7-e9a63f9e149f",
   "metadata": {},
   "source": [
    "### 5. To search a specific word in a string"
   ]
  },
  {
   "cell_type": "code",
   "execution_count": 20,
   "id": "31e88020-bb74-4538-b680-421fd1c233d6",
   "metadata": {},
   "outputs": [
    {
     "name": "stdin",
     "output_type": "stream",
     "text": [
      "Enter a Word  deepika\n",
      "Enter a Word  d\n"
     ]
    },
    {
     "name": "stdout",
     "output_type": "stream",
     "text": [
      "'d' found in the string.\n"
     ]
    }
   ],
   "source": [
    "input_str = input(\"Enter a Word \")\n",
    "search_word= input(\"Enter a Word \")\n",
    "if search_word in input_str:print(f\"'{search_word}' found in the string.\")\n",
    "else:print(f\"'{search_word}' not found in the string.\")"
   ]
  },
  {
   "cell_type": "markdown",
   "id": "3ec746f4-bd7a-4741-9715-ff374b76078c",
   "metadata": {},
   "source": [
    "### 6. Find the last position of a given substring"
   ]
  },
  {
   "cell_type": "code",
   "execution_count": 21,
   "id": "0a0ba13a-68a8-482f-a340-175a499d6c12",
   "metadata": {},
   "outputs": [
    {
     "name": "stdout",
     "output_type": "stream",
     "text": [
      "43\n"
     ]
    }
   ],
   "source": [
    "str1 = \"John is a data scientist who knows Python. John works at google.\"\n",
    "index = str1.rfind(\"John\")\n",
    "print(index)"
   ]
  },
  {
   "cell_type": "markdown",
   "id": "66a2a4e4-5c4d-405c-a94b-d85dc2453f12",
   "metadata": {},
   "source": [
    "### 7. Remove special symbols / punctuation from a string"
   ]
  },
  {
   "cell_type": "code",
   "execution_count": 22,
   "id": "0e684ddf-731e-4b66-9d8c-5138ce9faff0",
   "metadata": {},
   "outputs": [
    {
     "name": "stdout",
     "output_type": "stream",
     "text": [
      "Original string is  /*John is @developer & musician\n",
      "New string is  John is developer  musician\n"
     ]
    }
   ],
   "source": [
    "# Method 1: Using translate() and maketrans()\n",
    "\n",
    "import string\n",
    "str1 = \"/*John is @developer & musician\"\n",
    "print(\"Original string is \", str1)\n",
    "new_str = str1.translate(str.maketrans('', '', string.punctuation))\n",
    "print(\"New string is \", new_str)"
   ]
  },
  {
   "cell_type": "code",
   "execution_count": 23,
   "id": "f0e848ac-c7a8-47d5-9894-637a77c813ba",
   "metadata": {},
   "outputs": [
    {
     "name": "stdout",
     "output_type": "stream",
     "text": [
      "Original string is  /*John is @developer & musician\n",
      "New string is  John is developer  musician\n"
     ]
    }
   ],
   "source": [
    "# Method 2: Using regex\n",
    "\n",
    "import re\n",
    "str1 = \"/*John is @developer & musician\"\n",
    "print(\"Original string is \", str1)\n",
    "# replace special symbols with ''\n",
    "res = re.sub(r'[^\\w\\s]', '', str1)\n",
    "print(\"New string is \", res)"
   ]
  },
  {
   "cell_type": "markdown",
   "id": "2c60cf36-b768-4964-80ea-ee6124be45a5",
   "metadata": {},
   "source": [
    "### 8. Removal all characters from a string except integers"
   ]
  },
  {
   "cell_type": "code",
   "execution_count": 24,
   "id": "67fa3d51-abbd-4a5b-b4a5-8677179c955d",
   "metadata": {},
   "outputs": [
    {
     "name": "stdout",
     "output_type": "stream",
     "text": [
      "Original string:  I am 25 years and 10 months old\n",
      "2510\n"
     ]
    }
   ],
   "source": [
    "str1 = 'I am 25 years and 10 months old'\n",
    "print(\"Original string: \", str1)\n",
    "# Retain Numbers in String\n",
    "# Using list comprehension + join() + isdigit()\n",
    "res = \"\".join([item for item in str1 if item.isdigit()])\n",
    "print(res)"
   ]
  },
  {
   "cell_type": "code",
   "execution_count": null,
   "id": "61990a38-bce6-4469-8cbb-fdc420e0c6dc",
   "metadata": {},
   "outputs": [],
   "source": []
  }
 ],
 "metadata": {
  "kernelspec": {
   "display_name": "Python 3 (ipykernel)",
   "language": "python",
   "name": "python3"
  },
  "language_info": {
   "codemirror_mode": {
    "name": "ipython",
    "version": 3
   },
   "file_extension": ".py",
   "mimetype": "text/x-python",
   "name": "python",
   "nbconvert_exporter": "python",
   "pygments_lexer": "ipython3",
   "version": "3.10.14"
  }
 },
 "nbformat": 4,
 "nbformat_minor": 5
}
